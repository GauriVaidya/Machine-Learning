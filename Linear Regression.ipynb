{
 "cells": [
  {
   "cell_type": "code",
   "execution_count": 30,
   "metadata": {},
   "outputs": [],
   "source": [
    "import pandas as pd\n",
    "import quandl\n",
    "quandl.ApiConfig.api_key = \"kcsmGVQLzL4gyDWhvv4a\"\n",
    "import math\n",
    "from sklearn import preprocessing, cross_validation, svm\n",
    "import numpy as np\n",
    "from sklearn.linear_model import LinearRegression"
   ]
  },
  {
   "cell_type": "code",
   "execution_count": 31,
   "metadata": {},
   "outputs": [],
   "source": [
    "df = quandl.get('WIKI/GOOGL')\n",
    "#print(df.head())\n",
    "df = df[['Adj. Open', 'Adj. High', 'Adj. Low', 'Adj. Close', 'Adj. Volume']]"
   ]
  },
  {
   "cell_type": "code",
   "execution_count": 32,
   "metadata": {},
   "outputs": [],
   "source": [
    "df['High_PCT'] = df['Adj. High'] - df['Adj. Close'] / df['Adj. Close'] * 100\n",
    "df['change'] = df['Adj. Close'] - df['Adj. Open'] / df['Adj. Open']\n",
    "df = df[['Adj. Close', 'High_PCT', 'change', 'Adj. Volume']]\n",
    "#print(df.head())"
   ]
  },
  {
   "cell_type": "code",
   "execution_count": 33,
   "metadata": {},
   "outputs": [],
   "source": [
    "forecast_col = 'Adj. Close'\n",
    "df.fillna(-99999, inplace=True)\n",
    "\n",
    "forecast_out = int(math.ceil(0.1 *len(df)))"
   ]
  },
  {
   "cell_type": "code",
   "execution_count": 34,
   "metadata": {},
   "outputs": [],
   "source": [
    "df['label'] = df[forecast_col].shift(-forecast_out)"
   ]
  },
  {
   "cell_type": "code",
   "execution_count": 35,
   "metadata": {},
   "outputs": [
    {
     "name": "stdout",
     "output_type": "stream",
     "text": [
      "            Adj. Close   High_PCT     change  Adj. Volume       label\n",
      "Date                                                                 \n",
      "2004-08-19   50.322842 -47.808891  49.322842   44659000.0  214.005615\n",
      "2004-08-20   54.322689 -45.291119  53.322689   22834300.0  210.725489\n",
      "2004-08-23   54.869377 -43.084307  53.869377   18256100.0  208.072299\n",
      "2004-08-24   52.597363 -44.027217  51.597363   15247300.0  218.288837\n",
      "2004-08-25   53.164113 -45.832791  52.164113    9188600.0  223.309335\n"
     ]
    }
   ],
   "source": [
    "print(df.head())"
   ]
  },
  {
   "cell_type": "code",
   "execution_count": 42,
   "metadata": {},
   "outputs": [],
   "source": [
    "df.dropna(inplace=True)\n",
    "x = np.array(df.drop(['label'], 1))\n",
    "y = np.array(df['label'])\n",
    "x = preprocessing.scale(x)\n",
    "#x = x[:-forecast_out + 1]\n",
    "y = np.array(df['label'])\n",
    "x_train, x_test, y_train, y_test = cross_validation.train_test_split(x, y, test_size=0.2)"
   ]
  },
  {
   "cell_type": "code",
   "execution_count": 43,
   "metadata": {},
   "outputs": [
    {
     "name": "stdout",
     "output_type": "stream",
     "text": [
      "0.8877005048727695\n"
     ]
    }
   ],
   "source": [
    "clf = LinearRegression()\n",
    "clf.fit(x_train, y_train)\n",
    "accuracy = clf.score(x_test, y_test)\n",
    "print(accuracy)"
   ]
  },
  {
   "cell_type": "code",
   "execution_count": null,
   "metadata": {},
   "outputs": [],
   "source": []
  }
 ],
 "metadata": {
  "kernelspec": {
   "display_name": "Python 3",
   "language": "python",
   "name": "python3"
  },
  "language_info": {
   "codemirror_mode": {
    "name": "ipython",
    "version": 3
   },
   "file_extension": ".py",
   "mimetype": "text/x-python",
   "name": "python",
   "nbconvert_exporter": "python",
   "pygments_lexer": "ipython3",
   "version": "3.6.5"
  }
 },
 "nbformat": 4,
 "nbformat_minor": 2
}
