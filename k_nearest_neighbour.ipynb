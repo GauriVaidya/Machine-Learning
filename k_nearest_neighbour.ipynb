{
 "cells": [
  {
   "cell_type": "code",
   "execution_count": 4,
   "metadata": {},
   "outputs": [
    {
     "name": "stdout",
     "output_type": "stream",
     "text": [
      "class:  r\n"
     ]
    }
   ],
   "source": [
    "#importing the required stuff\n",
    "import numpy as np\n",
    "import matplotlib.pyplot as plt #for visualization\n",
    "from math import sqrt\n",
    "import warnings                 #for showing warnings\n",
    "from collections import Counter #for counting hashable objects(like multiset in other languages)\n",
    "from matplotlib import style    #for defining your own style\n",
    "style.use('fivethirtyeight')\n",
    "\n",
    "#declaring a dataset in the form of dictionaries with two classes k and r\n",
    "dataset={ 'k' : [[1, 2], [2, 3], [3, 1]], 'r' : [[6, 5], [7, 7], [8, 6]]}\n",
    "new_features = [5, 7]\n",
    "\n",
    "def k_nearest_algorithm(data, predict, k=3):\n",
    "    if len(data)>=k:\n",
    "        warnings.warn('k is set to a value less than the total')\n",
    "    distances=[]\n",
    "    for group in data:\n",
    "        for features in data[group]:\n",
    "            euclidean_distance = np.linalg.norm(np.array(features) - np.array(predict)) #euclidean_distance using numpy \n",
    "            distances.append([euclidean_distance, group])\n",
    "            \n",
    "    votes  = [i[1] for i in sorted(distances)[:k]]    #as we are concern till k only\n",
    "    vote_result = Counter(votes).most_common(1)[0][0] #most_common returns the n common elements as per arg\n",
    "    return vote_result\n",
    "\n",
    "\n",
    "result = k_nearest_algorithm(dataset, new_features, k=3)\n",
    "print(\"class: \",result)  #printing result i.e the class to which the new features belong to"
   ]
  },
  {
   "cell_type": "code",
   "execution_count": 3,
   "metadata": {},
   "outputs": [
    {
     "data": {
      "image/png": "[encoded data removed]",
      "text/plain": [
       "<Figure size 432x288 with 1 Axes>"
      ]
     },
     "metadata": {},
     "output_type": "display_data"
    }
   ],
   "source": [
    "#visualization of the dataset using for loop for both the classes\n",
    "[[plt.scatter(ii[0], ii[1], s=100, color=i)for ii in dataset[i]]for i in dataset]\n",
    "plt.scatter(new_features[0], new_features[1], color=result)\n",
    "plt.show()"
   ]
  },
  {
   "cell_type": "code",
   "execution_count": null,
   "metadata": {},
   "outputs": [],
   "source": []
  }
 ],
 "metadata": {
  "kernelspec": {
   "display_name": "Python 3",
   "language": "python",
   "name": "python3"
  },
  "language_info": {
   "codemirror_mode": {
    "name": "ipython",
    "version": 3
   },
   "file_extension": ".py",
   "mimetype": "text/x-python",
   "name": "python",
   "nbconvert_exporter": "python",
   "pygments_lexer": "ipython3",
   "version": "3.6.5"
  }
 },
 "nbformat": 4,
 "nbformat_minor": 2
}
